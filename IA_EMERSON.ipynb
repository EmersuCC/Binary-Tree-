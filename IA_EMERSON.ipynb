{
  "nbformat": 4,
  "nbformat_minor": 0,
  "metadata": {
    "colab": {
      "name": "IA_EMERSON.ipynb",
      "provenance": [],
      "collapsed_sections": [
        "5jrI8H0psCf4",
        "KfWP9D0J5Otb",
        "XpaW50iR5Gka",
        "1b0d2WAZr-BX",
        "UkjVfZcLv7Yd",
        "LX_919dZ1Z28",
        "ME6Hgwml2GDa",
        "J3UxFCdLN3UT"
      ],
      "authorship_tag": "ABX9TyMheBLi6rx9ZHBvDNKWka1G",
      "include_colab_link": true
    },
    "kernelspec": {
      "name": "python3",
      "display_name": "Python 3"
    },
    "language_info": {
      "name": "python"
    }
  },
  "cells": [
    {
      "cell_type": "markdown",
      "metadata": {
        "id": "view-in-github",
        "colab_type": "text"
      },
      "source": [
        "<a href=\"https://colab.research.google.com/github/EmersuCC/Binary-Tree-/blob/master/IA_EMERSON.ipynb\" target=\"_parent\"><img src=\"https://colab.research.google.com/assets/colab-badge.svg\" alt=\"Open In Colab\"/></a>"
      ]
    },
    {
      "cell_type": "markdown",
      "source": [
        "#Questão 3\n",
        "###Pré-processamento, matriz e KNN\n"
      ],
      "metadata": {
        "id": "5jrI8H0psCf4"
      }
    },
    {
      "cell_type": "code",
      "execution_count": 1,
      "metadata": {
        "id": "5kXie7LbDz1-"
      },
      "outputs": [],
      "source": [
        "import pandas as pd\n",
        "import numpy as np\n",
        "import statistics as st\n",
        "import matplotlib.pyplot as plt\n",
        "import plotly.express as px\n",
        "from sklearn import preprocessing\n",
        "from sklearn.preprocessing import StandardScaler\n",
        "from sklearn.preprocessing import RobustScaler\n",
        "from sklearn.decomposition import PCA\n",
        "import seaborn as sns"
      ]
    },
    {
      "cell_type": "markdown",
      "source": [
        "## 3.1 e 3.2"
      ],
      "metadata": {
        "id": "KfWP9D0J5Otb"
      }
    },
    {
      "cell_type": "code",
      "source": [
        "\n",
        "df = pd.read_csv('/data.csv')\n",
        "df.head()"
      ],
      "metadata": {
        "colab": {
          "base_uri": "https://localhost:8080/",
          "height": 206
        },
        "id": "DrSmS6FJ7soV",
        "outputId": "85e9b398-69b7-481e-d679-7c2765e59776"
      },
      "execution_count": 25,
      "outputs": [
        {
          "output_type": "execute_result",
          "data": {
            "text/plain": [
              "   age  sex  cp trestbps chol fbs restecg thalach exang  oldpeak slope ca  \\\n",
              "0   28    1   2      130  132   0       2     185     0      0.0     ?  ?   \n",
              "1   29    1   2      120  243   0       0     160     0      0.0     ?  ?   \n",
              "2   29    1   2      140    ?   0       0     170     0      0.0     ?  ?   \n",
              "3   30    0   1      170  237   0       1     170     0      0.0     ?  ?   \n",
              "4   31    0   2      100  219   0       1     150     0      0.0     ?  ?   \n",
              "\n",
              "  thal  num         \n",
              "0    ?           0  \n",
              "1    ?           0  \n",
              "2    ?           0  \n",
              "3    6           0  \n",
              "4    ?           0  "
            ],
            "text/html": [
              "\n",
              "  <div id=\"df-0ac67b09-a273-464e-9eb0-a4bc5679019f\">\n",
              "    <div class=\"colab-df-container\">\n",
              "      <div>\n",
              "<style scoped>\n",
              "    .dataframe tbody tr th:only-of-type {\n",
              "        vertical-align: middle;\n",
              "    }\n",
              "\n",
              "    .dataframe tbody tr th {\n",
              "        vertical-align: top;\n",
              "    }\n",
              "\n",
              "    .dataframe thead th {\n",
              "        text-align: right;\n",
              "    }\n",
              "</style>\n",
              "<table border=\"1\" class=\"dataframe\">\n",
              "  <thead>\n",
              "    <tr style=\"text-align: right;\">\n",
              "      <th></th>\n",
              "      <th>age</th>\n",
              "      <th>sex</th>\n",
              "      <th>cp</th>\n",
              "      <th>trestbps</th>\n",
              "      <th>chol</th>\n",
              "      <th>fbs</th>\n",
              "      <th>restecg</th>\n",
              "      <th>thalach</th>\n",
              "      <th>exang</th>\n",
              "      <th>oldpeak</th>\n",
              "      <th>slope</th>\n",
              "      <th>ca</th>\n",
              "      <th>thal</th>\n",
              "      <th>num</th>\n",
              "    </tr>\n",
              "  </thead>\n",
              "  <tbody>\n",
              "    <tr>\n",
              "      <th>0</th>\n",
              "      <td>28</td>\n",
              "      <td>1</td>\n",
              "      <td>2</td>\n",
              "      <td>130</td>\n",
              "      <td>132</td>\n",
              "      <td>0</td>\n",
              "      <td>2</td>\n",
              "      <td>185</td>\n",
              "      <td>0</td>\n",
              "      <td>0.0</td>\n",
              "      <td>?</td>\n",
              "      <td>?</td>\n",
              "      <td>?</td>\n",
              "      <td>0</td>\n",
              "    </tr>\n",
              "    <tr>\n",
              "      <th>1</th>\n",
              "      <td>29</td>\n",
              "      <td>1</td>\n",
              "      <td>2</td>\n",
              "      <td>120</td>\n",
              "      <td>243</td>\n",
              "      <td>0</td>\n",
              "      <td>0</td>\n",
              "      <td>160</td>\n",
              "      <td>0</td>\n",
              "      <td>0.0</td>\n",
              "      <td>?</td>\n",
              "      <td>?</td>\n",
              "      <td>?</td>\n",
              "      <td>0</td>\n",
              "    </tr>\n",
              "    <tr>\n",
              "      <th>2</th>\n",
              "      <td>29</td>\n",
              "      <td>1</td>\n",
              "      <td>2</td>\n",
              "      <td>140</td>\n",
              "      <td>?</td>\n",
              "      <td>0</td>\n",
              "      <td>0</td>\n",
              "      <td>170</td>\n",
              "      <td>0</td>\n",
              "      <td>0.0</td>\n",
              "      <td>?</td>\n",
              "      <td>?</td>\n",
              "      <td>?</td>\n",
              "      <td>0</td>\n",
              "    </tr>\n",
              "    <tr>\n",
              "      <th>3</th>\n",
              "      <td>30</td>\n",
              "      <td>0</td>\n",
              "      <td>1</td>\n",
              "      <td>170</td>\n",
              "      <td>237</td>\n",
              "      <td>0</td>\n",
              "      <td>1</td>\n",
              "      <td>170</td>\n",
              "      <td>0</td>\n",
              "      <td>0.0</td>\n",
              "      <td>?</td>\n",
              "      <td>?</td>\n",
              "      <td>6</td>\n",
              "      <td>0</td>\n",
              "    </tr>\n",
              "    <tr>\n",
              "      <th>4</th>\n",
              "      <td>31</td>\n",
              "      <td>0</td>\n",
              "      <td>2</td>\n",
              "      <td>100</td>\n",
              "      <td>219</td>\n",
              "      <td>0</td>\n",
              "      <td>1</td>\n",
              "      <td>150</td>\n",
              "      <td>0</td>\n",
              "      <td>0.0</td>\n",
              "      <td>?</td>\n",
              "      <td>?</td>\n",
              "      <td>?</td>\n",
              "      <td>0</td>\n",
              "    </tr>\n",
              "  </tbody>\n",
              "</table>\n",
              "</div>\n",
              "      <button class=\"colab-df-convert\" onclick=\"convertToInteractive('df-0ac67b09-a273-464e-9eb0-a4bc5679019f')\"\n",
              "              title=\"Convert this dataframe to an interactive table.\"\n",
              "              style=\"display:none;\">\n",
              "        \n",
              "  <svg xmlns=\"http://www.w3.org/2000/svg\" height=\"24px\"viewBox=\"0 0 24 24\"\n",
              "       width=\"24px\">\n",
              "    <path d=\"M0 0h24v24H0V0z\" fill=\"none\"/>\n",
              "    <path d=\"M18.56 5.44l.94 2.06.94-2.06 2.06-.94-2.06-.94-.94-2.06-.94 2.06-2.06.94zm-11 1L8.5 8.5l.94-2.06 2.06-.94-2.06-.94L8.5 2.5l-.94 2.06-2.06.94zm10 10l.94 2.06.94-2.06 2.06-.94-2.06-.94-.94-2.06-.94 2.06-2.06.94z\"/><path d=\"M17.41 7.96l-1.37-1.37c-.4-.4-.92-.59-1.43-.59-.52 0-1.04.2-1.43.59L10.3 9.45l-7.72 7.72c-.78.78-.78 2.05 0 2.83L4 21.41c.39.39.9.59 1.41.59.51 0 1.02-.2 1.41-.59l7.78-7.78 2.81-2.81c.8-.78.8-2.07 0-2.86zM5.41 20L4 18.59l7.72-7.72 1.47 1.35L5.41 20z\"/>\n",
              "  </svg>\n",
              "      </button>\n",
              "      \n",
              "  <style>\n",
              "    .colab-df-container {\n",
              "      display:flex;\n",
              "      flex-wrap:wrap;\n",
              "      gap: 12px;\n",
              "    }\n",
              "\n",
              "    .colab-df-convert {\n",
              "      background-color: #E8F0FE;\n",
              "      border: none;\n",
              "      border-radius: 50%;\n",
              "      cursor: pointer;\n",
              "      display: none;\n",
              "      fill: #1967D2;\n",
              "      height: 32px;\n",
              "      padding: 0 0 0 0;\n",
              "      width: 32px;\n",
              "    }\n",
              "\n",
              "    .colab-df-convert:hover {\n",
              "      background-color: #E2EBFA;\n",
              "      box-shadow: 0px 1px 2px rgba(60, 64, 67, 0.3), 0px 1px 3px 1px rgba(60, 64, 67, 0.15);\n",
              "      fill: #174EA6;\n",
              "    }\n",
              "\n",
              "    [theme=dark] .colab-df-convert {\n",
              "      background-color: #3B4455;\n",
              "      fill: #D2E3FC;\n",
              "    }\n",
              "\n",
              "    [theme=dark] .colab-df-convert:hover {\n",
              "      background-color: #434B5C;\n",
              "      box-shadow: 0px 1px 3px 1px rgba(0, 0, 0, 0.15);\n",
              "      filter: drop-shadow(0px 1px 2px rgba(0, 0, 0, 0.3));\n",
              "      fill: #FFFFFF;\n",
              "    }\n",
              "  </style>\n",
              "\n",
              "      <script>\n",
              "        const buttonEl =\n",
              "          document.querySelector('#df-0ac67b09-a273-464e-9eb0-a4bc5679019f button.colab-df-convert');\n",
              "        buttonEl.style.display =\n",
              "          google.colab.kernel.accessAllowed ? 'block' : 'none';\n",
              "\n",
              "        async function convertToInteractive(key) {\n",
              "          const element = document.querySelector('#df-0ac67b09-a273-464e-9eb0-a4bc5679019f');\n",
              "          const dataTable =\n",
              "            await google.colab.kernel.invokeFunction('convertToInteractive',\n",
              "                                                     [key], {});\n",
              "          if (!dataTable) return;\n",
              "\n",
              "          const docLinkHtml = 'Like what you see? Visit the ' +\n",
              "            '<a target=\"_blank\" href=https://colab.research.google.com/notebooks/data_table.ipynb>data table notebook</a>'\n",
              "            + ' to learn more about interactive tables.';\n",
              "          element.innerHTML = '';\n",
              "          dataTable['output_type'] = 'display_data';\n",
              "          await google.colab.output.renderOutput(dataTable, element);\n",
              "          const docLink = document.createElement('div');\n",
              "          docLink.innerHTML = docLinkHtml;\n",
              "          element.appendChild(docLink);\n",
              "        }\n",
              "      </script>\n",
              "    </div>\n",
              "  </div>\n",
              "  "
            ]
          },
          "metadata": {},
          "execution_count": 25
        }
      ]
    },
    {
      "cell_type": "code",
      "source": [
        "df.shape \n"
      ],
      "metadata": {
        "colab": {
          "base_uri": "https://localhost:8080/"
        },
        "id": "wlzacLCAcY4r",
        "outputId": "0762886d-01f7-47ac-d2b2-a8132a073ee2"
      },
      "execution_count": 4,
      "outputs": [
        {
          "output_type": "execute_result",
          "data": {
            "text/plain": [
              "(294, 14)"
            ]
          },
          "metadata": {},
          "execution_count": 4
        }
      ]
    },
    {
      "cell_type": "code",
      "source": [
        "#Colunas e Tipos\n",
        "df.columns\n",
        "#df.dtypes\n"
      ],
      "metadata": {
        "id": "s4yNbH_leKo1"
      },
      "execution_count": null,
      "outputs": []
    },
    {
      "cell_type": "code",
      "source": [
        "df = df.rename(columns={\"num       \":\"target\"})"
      ],
      "metadata": {
        "id": "lCPb9Tp1sDiF"
      },
      "execution_count": 6,
      "outputs": []
    },
    {
      "cell_type": "code",
      "source": [
        "df.info()\n"
      ],
      "metadata": {
        "colab": {
          "base_uri": "https://localhost:8080/"
        },
        "id": "hhIIq8oFebGN",
        "outputId": "5dcbc7bf-ba80-4222-b8e1-46b864386f04"
      },
      "execution_count": null,
      "outputs": [
        {
          "output_type": "stream",
          "name": "stdout",
          "text": [
            "<class 'pandas.core.frame.DataFrame'>\n",
            "RangeIndex: 294 entries, 0 to 293\n",
            "Data columns (total 14 columns):\n",
            " #   Column      Non-Null Count  Dtype  \n",
            "---  ------      --------------  -----  \n",
            " 0   age         294 non-null    int64  \n",
            " 1   sex         294 non-null    int64  \n",
            " 2   cp          294 non-null    int64  \n",
            " 3   trestbps    293 non-null    float64\n",
            " 4   chol        271 non-null    float64\n",
            " 5   fbs         286 non-null    float64\n",
            " 6   restecg     293 non-null    float64\n",
            " 7   thalach     293 non-null    float64\n",
            " 8   exang       293 non-null    float64\n",
            " 9   oldpeak     294 non-null    float64\n",
            " 10  slope       104 non-null    float64\n",
            " 11  ca          3 non-null      float64\n",
            " 12  thal        28 non-null     float64\n",
            " 13  num         294 non-null    int64  \n",
            "dtypes: float64(10), int64(4)\n",
            "memory usage: 32.3 KB\n"
          ]
        }
      ]
    },
    {
      "cell_type": "code",
      "source": [
        "corr = df.corr()\n",
        "corr.style.background_gradient(cmap = 'plasma') #mapa de correlação"
      ],
      "metadata": {
        "colab": {
          "base_uri": "https://localhost:8080/",
          "height": 206
        },
        "id": "WY0eAaixrZtE",
        "outputId": "aca90a02-e79f-4828-c753-12ddfe9c10bd"
      },
      "execution_count": 7,
      "outputs": [
        {
          "output_type": "execute_result",
          "data": {
            "text/plain": [
              "<pandas.io.formats.style.Styler at 0x7f4f0d45ab10>"
            ],
            "text/html": [
              "<style type=\"text/css\">\n",
              "#T_bc80c_row0_col0, #T_bc80c_row1_col1, #T_bc80c_row2_col2, #T_bc80c_row3_col3, #T_bc80c_row4_col4 {\n",
              "  background-color: #f0f921;\n",
              "  color: #000000;\n",
              "}\n",
              "#T_bc80c_row0_col1, #T_bc80c_row0_col2, #T_bc80c_row0_col4, #T_bc80c_row1_col0, #T_bc80c_row1_col3 {\n",
              "  background-color: #0d0887;\n",
              "  color: #f1f1f1;\n",
              "}\n",
              "#T_bc80c_row0_col3 {\n",
              "  background-color: #330597;\n",
              "  color: #f1f1f1;\n",
              "}\n",
              "#T_bc80c_row1_col2 {\n",
              "  background-color: #4b03a1;\n",
              "  color: #f1f1f1;\n",
              "}\n",
              "#T_bc80c_row1_col4, #T_bc80c_row2_col0 {\n",
              "  background-color: #5002a2;\n",
              "  color: #f1f1f1;\n",
              "}\n",
              "#T_bc80c_row2_col1 {\n",
              "  background-color: #7a02a8;\n",
              "  color: #f1f1f1;\n",
              "}\n",
              "#T_bc80c_row2_col3 {\n",
              "  background-color: #8405a7;\n",
              "  color: #f1f1f1;\n",
              "}\n",
              "#T_bc80c_row2_col4 {\n",
              "  background-color: #b42e8d;\n",
              "  color: #f1f1f1;\n",
              "}\n",
              "#T_bc80c_row3_col0 {\n",
              "  background-color: #5c01a6;\n",
              "  color: #f1f1f1;\n",
              "}\n",
              "#T_bc80c_row3_col1 {\n",
              "  background-color: #44039e;\n",
              "  color: #f1f1f1;\n",
              "}\n",
              "#T_bc80c_row3_col2 {\n",
              "  background-color: #7b02a8;\n",
              "  color: #f1f1f1;\n",
              "}\n",
              "#T_bc80c_row3_col4 {\n",
              "  background-color: #c13b82;\n",
              "  color: #f1f1f1;\n",
              "}\n",
              "#T_bc80c_row4_col0 {\n",
              "  background-color: #5502a4;\n",
              "  color: #f1f1f1;\n",
              "}\n",
              "#T_bc80c_row4_col1 {\n",
              "  background-color: #8305a7;\n",
              "  color: #f1f1f1;\n",
              "}\n",
              "#T_bc80c_row4_col2 {\n",
              "  background-color: #b6308b;\n",
              "  color: #f1f1f1;\n",
              "}\n",
              "#T_bc80c_row4_col3 {\n",
              "  background-color: #c8437b;\n",
              "  color: #f1f1f1;\n",
              "}\n",
              "</style>\n",
              "<table id=\"T_bc80c_\" class=\"dataframe\">\n",
              "  <thead>\n",
              "    <tr>\n",
              "      <th class=\"blank level0\" >&nbsp;</th>\n",
              "      <th class=\"col_heading level0 col0\" >age</th>\n",
              "      <th class=\"col_heading level0 col1\" >sex</th>\n",
              "      <th class=\"col_heading level0 col2\" >cp</th>\n",
              "      <th class=\"col_heading level0 col3\" >oldpeak</th>\n",
              "      <th class=\"col_heading level0 col4\" >target</th>\n",
              "    </tr>\n",
              "  </thead>\n",
              "  <tbody>\n",
              "    <tr>\n",
              "      <th id=\"T_bc80c_level0_row0\" class=\"row_heading level0 row0\" >age</th>\n",
              "      <td id=\"T_bc80c_row0_col0\" class=\"data row0 col0\" >1.000000</td>\n",
              "      <td id=\"T_bc80c_row0_col1\" class=\"data row0 col1\" >0.013618</td>\n",
              "      <td id=\"T_bc80c_row0_col2\" class=\"data row0 col2\" >0.145826</td>\n",
              "      <td id=\"T_bc80c_row0_col3\" class=\"data row0 col3\" >0.177707</td>\n",
              "      <td id=\"T_bc80c_row0_col4\" class=\"data row0 col4\" >0.159315</td>\n",
              "    </tr>\n",
              "    <tr>\n",
              "      <th id=\"T_bc80c_level0_row1\" class=\"row_heading level0 row1\" >sex</th>\n",
              "      <td id=\"T_bc80c_row1_col0\" class=\"data row1 col0\" >0.013618</td>\n",
              "      <td id=\"T_bc80c_row1_col1\" class=\"data row1 col1\" >1.000000</td>\n",
              "      <td id=\"T_bc80c_row1_col2\" class=\"data row1 col2\" >0.249875</td>\n",
              "      <td id=\"T_bc80c_row1_col3\" class=\"data row1 col3\" >0.118931</td>\n",
              "      <td id=\"T_bc80c_row1_col4\" class=\"data row1 col4\" >0.272781</td>\n",
              "    </tr>\n",
              "    <tr>\n",
              "      <th id=\"T_bc80c_level0_row2\" class=\"row_heading level0 row2\" >cp</th>\n",
              "      <td id=\"T_bc80c_row2_col0\" class=\"data row2 col0\" >0.145826</td>\n",
              "      <td id=\"T_bc80c_row2_col1\" class=\"data row2 col1\" >0.249875</td>\n",
              "      <td id=\"T_bc80c_row2_col2\" class=\"data row2 col2\" >1.000000</td>\n",
              "      <td id=\"T_bc80c_row2_col3\" class=\"data row2 col3\" >0.353109</td>\n",
              "      <td id=\"T_bc80c_row2_col4\" class=\"data row2 col4\" >0.505864</td>\n",
              "    </tr>\n",
              "    <tr>\n",
              "      <th id=\"T_bc80c_level0_row3\" class=\"row_heading level0 row3\" >oldpeak</th>\n",
              "      <td id=\"T_bc80c_row3_col0\" class=\"data row3 col0\" >0.177707</td>\n",
              "      <td id=\"T_bc80c_row3_col1\" class=\"data row3 col1\" >0.118931</td>\n",
              "      <td id=\"T_bc80c_row3_col2\" class=\"data row3 col2\" >0.353109</td>\n",
              "      <td id=\"T_bc80c_row3_col3\" class=\"data row3 col3\" >1.000000</td>\n",
              "      <td id=\"T_bc80c_row3_col4\" class=\"data row3 col4\" >0.545700</td>\n",
              "    </tr>\n",
              "    <tr>\n",
              "      <th id=\"T_bc80c_level0_row4\" class=\"row_heading level0 row4\" >target</th>\n",
              "      <td id=\"T_bc80c_row4_col0\" class=\"data row4 col0\" >0.159315</td>\n",
              "      <td id=\"T_bc80c_row4_col1\" class=\"data row4 col1\" >0.272781</td>\n",
              "      <td id=\"T_bc80c_row4_col2\" class=\"data row4 col2\" >0.505864</td>\n",
              "      <td id=\"T_bc80c_row4_col3\" class=\"data row4 col3\" >0.545700</td>\n",
              "      <td id=\"T_bc80c_row4_col4\" class=\"data row4 col4\" >1.000000</td>\n",
              "    </tr>\n",
              "  </tbody>\n",
              "</table>\n"
            ]
          },
          "metadata": {},
          "execution_count": 7
        }
      ]
    },
    {
      "cell_type": "code",
      "source": [
        "#Correlação entre os atributos, parte questão 3.2\n",
        "\n",
        "corr = df.corr()\n",
        "f, ax = plt.subplots(figsize=(12,9))\n",
        "#corr.style.background_gradient(cmap = 'plasma') #mapa de correlação\n",
        "sns.heatmap(corr, vmax=.8, square=True, annot=True)"
      ],
      "metadata": {
        "colab": {
          "base_uri": "https://localhost:8080/",
          "height": 558
        },
        "id": "kQiyXHOdgBxT",
        "outputId": "dcc67775-1b5b-4dbd-bc9f-828b334feaa8"
      },
      "execution_count": 8,
      "outputs": [
        {
          "output_type": "execute_result",
          "data": {
            "text/plain": [
              "<matplotlib.axes._subplots.AxesSubplot at 0x7f4ef231f590>"
            ]
          },
          "metadata": {},
          "execution_count": 8
        },
        {
          "output_type": "display_data",
          "data": {
            "text/plain": [
              "<Figure size 864x648 with 2 Axes>"
            ],
            "image/png": "[encoded data removed]"
          },
          "metadata": {
            "needs_background": "light"
          }
        }
      ]
    },
    {
      "cell_type": "markdown",
      "source": [
        " ***Dores no peito (cp) e a depressão do segmento ST induzida pelo exercício em relação ao repouso (oldpeak) possuem maior correlação com o diagnóstico de ataque cardíaco(target). Posteriormente serão descartados os atributos com correlação menor que 0.3***"
      ],
      "metadata": {
        "id": "oGi7poHSoksL"
      }
    },
    {
      "cell_type": "markdown",
      "source": [
        "###Parte questão 3.1, pré-processamento"
      ],
      "metadata": {
        "id": "XpaW50iR5Gka"
      }
    },
    {
      "cell_type": "code",
      "source": [
        "df.values"
      ],
      "metadata": {
        "id": "ogIPByN4rqpk",
        "colab": {
          "base_uri": "https://localhost:8080/"
        },
        "outputId": "fbc1ed60-2ae3-4135-8f1e-10bf4ecc3208"
      },
      "execution_count": 9,
      "outputs": [
        {
          "output_type": "execute_result",
          "data": {
            "text/plain": [
              "array([[28, 1, 2, ..., '?', '?', 0],\n",
              "       [29, 1, 2, ..., '?', '?', 0],\n",
              "       [29, 1, 2, ..., '?', '?', 0],\n",
              "       ...,\n",
              "       [56, 1, 4, ..., '?', '?', 1],\n",
              "       [58, 0, 2, ..., '?', '7', 1],\n",
              "       [65, 1, 4, ..., '?', '?', 1]], dtype=object)"
            ]
          },
          "metadata": {},
          "execution_count": 9
        }
      ]
    },
    {
      "cell_type": "code",
      "source": [
        "\n",
        "#Substituindo valores atribuidos com '?'\n",
        "df = df.replace('?', None)\n",
        "df = df.replace('?', 0)\n"
      ],
      "metadata": {
        "id": "fudUrnpugrZm"
      },
      "execution_count": 11,
      "outputs": []
    },
    {
      "cell_type": "code",
      "source": [
        "print(df.isnull().sum())\n"
      ],
      "metadata": {
        "id": "RckMMSOFL61z"
      },
      "execution_count": null,
      "outputs": []
    },
    {
      "cell_type": "code",
      "source": [
        "#Removendo a coluna de dados ca pois não possui nenhuma informação relevante\n",
        "print(df['ca'].unique())\n",
        "df = df.drop('ca', 1)"
      ],
      "metadata": {
        "id": "ihkUyBQYMTLc"
      },
      "execution_count": null,
      "outputs": []
    },
    {
      "cell_type": "code",
      "source": [
        "#Este Scaler remove a mediana e dimensiona os dados de acordo com o intervalo quantil\n",
        "rc = RobustScaler()\n",
        "colunas = ['sex', 'cp', 'fbs', 'restecg', 'exang', 'slope', 'thal']\n",
        "df[colunas] = rc.fit_transform(df[colunas])\n",
        "df.head()"
      ],
      "metadata": {
        "id": "K0vPtqMFe6x2"
      },
      "execution_count": null,
      "outputs": []
    },
    {
      "cell_type": "code",
      "source": [
        "#Escalando os outros atributos com StandardScaler, ele padroniza os recursos removendo a média e dimensionando para a variação da unidade\n",
        "sc = StandardScaler()\n",
        "colunas = ['age', 'trestbps', 'chol', 'thalach', 'oldpeak']  \n",
        "df[colunas] = sc.fit_transform(df[colunas])\n",
        "\n",
        "df.head()"
      ],
      "metadata": {
        "id": "JtACViOtAOPC"
      },
      "execution_count": null,
      "outputs": []
    },
    {
      "cell_type": "code",
      "source": [
        "#Cálculos das correlações com atributo alvo\n",
        "print(\"Correlações com o atributo alvo: \")\n",
        "corr = df.drop(\"target\", axis=1).apply(lambda x: x.corr(df['target']))\n",
        "print(corr)\n"
      ],
      "metadata": {
        "id": "E7OYmW8YILoT",
        "colab": {
          "base_uri": "https://localhost:8080/"
        },
        "outputId": "1d2f4332-e514-4b22-cbb2-2f426cc708f8"
      },
      "execution_count": 16,
      "outputs": [
        {
          "output_type": "stream",
          "name": "stdout",
          "text": [
            "Correlações com o atributo alvo: \n",
            "age         0.159315\n",
            "sex         0.272781\n",
            "cp          0.505864\n",
            "trestbps    0.138462\n",
            "chol        0.228496\n",
            "fbs         0.162869\n",
            "restecg    -0.031988\n",
            "thalach    -0.329337\n",
            "exang       0.577166\n",
            "oldpeak     0.545700\n",
            "slope       0.344463\n",
            "thal        0.467994\n",
            "dtype: float64\n"
          ]
        }
      ]
    },
    {
      "cell_type": "code",
      "source": [
        "# Remoção de atributos com correlação < 0.3\n",
        "low_attrs = [key for key in corr.keys() if abs(corr[key]) < 0.3]\n",
        "print(low_attrs)\n",
        "for attr in low_attrs:\n",
        "    df = df.drop(attr, axis=1)"
      ],
      "metadata": {
        "colab": {
          "base_uri": "https://localhost:8080/"
        },
        "id": "iKEzdFbgIgm2",
        "outputId": "8eaf3ece-3b4c-438e-c487-10f15ff1ee3e"
      },
      "execution_count": 17,
      "outputs": [
        {
          "output_type": "stream",
          "name": "stdout",
          "text": [
            "['age', 'sex', 'trestbps', 'chol', 'fbs', 'restecg']\n"
          ]
        }
      ]
    },
    {
      "cell_type": "code",
      "source": [
        "#PCA\n",
        "pca = PCA(n_components=7)\n",
        "pca.fit(df)\n",
        "pca.components_"
      ],
      "metadata": {
        "id": "kRR7ug2-I4FA"
      },
      "execution_count": null,
      "outputs": []
    },
    {
      "cell_type": "code",
      "source": [
        "#Amostra aleatoria com 10 pacientes que não possuem risco de ataque\n",
        "a = df.loc[df['target'] == 0].sample(n=10, random_state = 2) \n",
        "a"
      ],
      "metadata": {
        "id": "NRrkvtpvbS04"
      },
      "execution_count": null,
      "outputs": []
    },
    {
      "cell_type": "code",
      "source": [
        "df.dropna(how = 'any') #elimina todas as linhas com dados ausentes\n",
        "df"
      ],
      "metadata": {
        "id": "a-Yjk2Ja7kp9"
      },
      "execution_count": null,
      "outputs": []
    },
    {
      "cell_type": "code",
      "source": [
        "#Excluindo valores duplicados\n",
        "df.drop_duplicates()"
      ],
      "metadata": {
        "id": "u44RVJlTL_s5"
      },
      "execution_count": null,
      "outputs": []
    },
    {
      "cell_type": "code",
      "source": [
        "#Normalização dos dados.\n",
        "df = (df-df.min())/(df.max()-df.min())\n",
        "df"
      ],
      "metadata": {
        "id": "DRW0JHee-EM8"
      },
      "execution_count": null,
      "outputs": []
    },
    {
      "cell_type": "markdown",
      "source": [
        "####Questão 3.3\n",
        "KNN\n"
      ],
      "metadata": {
        "id": "1b0d2WAZr-BX"
      }
    },
    {
      "cell_type": "code",
      "source": [
        "import pandas as pd\n",
        "import matplotlib.pyplot as plt\n",
        "import numpy as np\n",
        "from sklearn import cluster, neighbors, svm, metrics, preprocessing\n",
        "from sklearn.metrics import classification_report"
      ],
      "metadata": {
        "id": "0CZxZCg8tG0O"
      },
      "execution_count": 22,
      "outputs": []
    },
    {
      "cell_type": "code",
      "source": [
        "#Splits\n",
        "\n",
        "trainSample = df.sample(frac=0.8, random_state = 1) #seleção de 80% da base para treinamento\n",
        "testSample = pd.concat([df, trainSample]).drop_duplicates(keep=False) #concatena a base original com a base de treinamento e exclui os duplicados, sobrando a amostra de teste\n",
        "\n",
        "trainTarget = trainSample[\"target\"] #define o atributo alvo da base para o treinamento\n",
        "testTarget = testSample[\"target\"] #define o atributo alvo da base para o teste\n",
        "\n",
        "\n",
        "del testSample[\"target\"]\n",
        "del trainSample[\"target\"]\n"
      ],
      "metadata": {
        "id": "MPsvfjvjtcG1"
      },
      "execution_count": 23,
      "outputs": []
    },
    {
      "cell_type": "code",
      "source": [
        "import random\n",
        "#Para K = 3 acurácia = 92%\n",
        "#Usar k para valores aleatorios entre 1 e 235 \n",
        "#k = random.randint(1,235)\n",
        "#print('o valor de k gerado foi: ', k)\n",
        "knn = neighbors.KNeighborsClassifier(n_neighbors=3, algorithm=\"auto\")\n",
        "knn.fit(trainSample, trainTarget)\n",
        "resultKNN = knn.predict(testSample)\n",
        "\n",
        "print('\\nK-NN')\n",
        "print('Acurácia: %0.2f' % (metrics.accuracy_score(testTarget, resultKNN)))\n",
        "\n",
        "matrizConfusao = metrics.confusion_matrix(testTarget, resultKNN)\n",
        "\n",
        "ax = sns.heatmap(matrizConfusao, annot=True, cmap='Purples')\n",
        "\n",
        "ax.set_title('Matriz de Confusão\\n\\n');\n",
        "ax.set_xlabel('\\nClasse Verdadeira')\n",
        "ax.set_ylabel('Classe Predita');\n",
        "\n",
        "## Ticket labels - List must be in alphabetical order\n",
        "ax.xaxis.set_ticklabels(['Safe','Risco'])\n",
        "ax.yaxis.set_ticklabels(['Safe','Risco'])\n",
        "\n",
        "\n",
        "## Display the visualization of the Confusion Matrix.\n",
        "plt.show()\n",
        "\n",
        "#print(\"Matriz de confusão:\\n\", matrizConfusao)"
      ],
      "metadata": {
        "id": "ejxgO1ixurOv",
        "colab": {
          "base_uri": "https://localhost:8080/",
          "height": 389
        },
        "outputId": "39e7ad72-b376-478a-a8fd-7330bc8dddc9"
      },
      "execution_count": 24,
      "outputs": [
        {
          "output_type": "stream",
          "name": "stdout",
          "text": [
            "\n",
            "K-NN\n",
            "Acurácia: 0.92\n"
          ]
        },
        {
          "output_type": "display_data",
          "data": {
            "text/plain": [
              "<Figure size 432x288 with 2 Axes>"
            ],
            "image/png": "[encoded data removed]"
          },
          "metadata": {
            "needs_background": "light"
          }
        }
      ]
    },
    {
      "cell_type": "code",
      "source": [
        "#Métricas\n",
        "\n",
        "VP = np.diag(matrizConfusao)\n",
        "FP = matrizConfusao.sum(axis=1) - np.diag(matrizConfusao)\n",
        "FN = matrizConfusao.sum(axis=0) - np.diag(matrizConfusao)\n",
        "VN = matrizConfusao.sum() - (FP+FN+VP)\n",
        "\n",
        "print(f'Matriz de Confusão para K = 3\\n', matrizConfusao)\n",
        "print('\\n')\n",
        "\n",
        "#Sensibilidade = VP / (VP + FN)\n",
        "S = VP / (VP+FN)\n",
        "print(f'Sensibilidade: {S.mean():.2f}')\n",
        "\n",
        "#Acurácia = (VP+VN)/(VP+VN+FP+FN)\n",
        "Acc = (VP+VN)/(VP+FP+VN+FN)\n",
        "print(f'Acurácia: {Acc.mean():.2f}')\n",
        "\n",
        "#Precisão = VP / (VP+FP)\n",
        "P = VP / (VP+FP)\n",
        "print(f'Precisão: {P.mean():.2f}')\n",
        "\n",
        "#F1 = 2* (P*S / P+S) Medidada de confiabilidade da acurácia\n",
        "MedidaF1 = (2*P*S)/(P+S)\n",
        "print(f'Medida F1: {MedidaF1.mean():.2f}')"
      ],
      "metadata": {
        "colab": {
          "base_uri": "https://localhost:8080/"
        },
        "id": "1DUYkDkv-Xrx",
        "outputId": "768f9963-c606-450c-e137-62f5847548c8"
      },
      "execution_count": null,
      "outputs": [
        {
          "output_type": "stream",
          "name": "stdout",
          "text": [
            "Matriz de Confusão para K = 3\n",
            " [[27  0]\n",
            " [ 4 18]]\n",
            "\n",
            "\n",
            "Sensibilidade: 0.94\n",
            "Acurácia: 0.92\n",
            "Precisão: 0.91\n",
            "Medida F1: 0.92\n"
          ]
        }
      ]
    },
    {
      "cell_type": "markdown",
      "source": [
        "Matriz e métricas para K = 3"
      ],
      "metadata": {
        "id": "Vg_DOwetA2H4"
      }
    },
    {
      "cell_type": "code",
      "source": [
        ""
      ],
      "metadata": {
        "colab": {
          "base_uri": "https://localhost:8080/"
        },
        "id": "sk_RftUMTaTX",
        "outputId": "b01b71ca-3331-4e57-f9e8-d7f938a44eea"
      },
      "execution_count": null,
      "outputs": [
        {
          "output_type": "stream",
          "name": "stdout",
          "text": [
            "Matriz de Confusão para K = 3\n",
            " [[27  0]\n",
            " [ 4 18]]\n",
            "\n",
            "\n",
            "Sensibilidade: 0.94\n",
            "Acurácia: 0.92\n",
            "Precisão: 0.91\n",
            "Medida F1: 0.92\n"
          ]
        }
      ]
    },
    {
      "cell_type": "markdown",
      "source": [
        "Matriz e métrica para K = 2"
      ],
      "metadata": {
        "id": "EKTWwbbRAXCj"
      }
    },
    {
      "cell_type": "code",
      "source": [
        ""
      ],
      "metadata": {
        "colab": {
          "base_uri": "https://localhost:8080/"
        },
        "id": "aTwgy7kgAaw8",
        "outputId": "ea49b6aa-41c9-4a61-a0f8-4183bbe3b9a7"
      },
      "execution_count": null,
      "outputs": [
        {
          "output_type": "stream",
          "name": "stdout",
          "text": [
            "Matriz de Confusão para K = 2\n",
            " [[27  0]\n",
            " [ 7 15]]\n",
            "\n",
            "\n",
            "Sensibilidade: 0.90\n",
            "Acurácia: 0.86\n",
            "Precisão: 0.84\n",
            "Medida F1: 0.85\n"
          ]
        }
      ]
    },
    {
      "cell_type": "markdown",
      "source": [
        "Matriz e métrica para K = 9"
      ],
      "metadata": {
        "id": "LnPGH5uYAk5P"
      }
    },
    {
      "cell_type": "code",
      "source": [
        ""
      ],
      "metadata": {
        "colab": {
          "base_uri": "https://localhost:8080/"
        },
        "id": "mrgrKTJEAsMr",
        "outputId": "2d19be1c-6eaa-4748-baaf-fa862138ba91"
      },
      "execution_count": null,
      "outputs": [
        {
          "output_type": "stream",
          "name": "stdout",
          "text": [
            "Matriz de Confusão para K = 9\n",
            " [[27  0]\n",
            " [ 5 17]]\n",
            "\n",
            "\n",
            "Sensibilidade: 0.92\n",
            "Acurácia: 0.90\n",
            "Precisão: 0.89\n",
            "Medida F1: 0.89\n"
          ]
        }
      ]
    },
    {
      "cell_type": "markdown",
      "source": [
        "Matriz e Métricas para K = 10"
      ],
      "metadata": {
        "id": "azCufZc3A5nH"
      }
    },
    {
      "cell_type": "code",
      "source": [
        ""
      ],
      "metadata": {
        "colab": {
          "base_uri": "https://localhost:8080/"
        },
        "id": "m-E5yh_BA-Pp",
        "outputId": "2e324fec-5f82-444f-fd02-297997a4e6aa"
      },
      "execution_count": null,
      "outputs": [
        {
          "output_type": "stream",
          "name": "stdout",
          "text": [
            "Matriz de Confusão para K = 10\n",
            " [[27  0]\n",
            " [ 5 17]]\n",
            "\n",
            "\n",
            "Sensibilidade: 0.92\n",
            "Acurácia: 0.90\n",
            "Precisão: 0.89\n",
            "Medida F1: 0.89\n"
          ]
        }
      ]
    },
    {
      "cell_type": "markdown",
      "source": [
        "Matriz e métricas para K = 100"
      ],
      "metadata": {
        "id": "CvM7OrxWBOfY"
      }
    },
    {
      "cell_type": "code",
      "source": [
        ""
      ],
      "metadata": {
        "colab": {
          "base_uri": "https://localhost:8080/"
        },
        "id": "L6XETts4BRJZ",
        "outputId": "189b7ac6-b008-47b4-a5fc-91ebc1e763d0"
      },
      "execution_count": null,
      "outputs": [
        {
          "output_type": "stream",
          "name": "stdout",
          "text": [
            "Matriz de Confusão para K = 100\n",
            " [[26  1]\n",
            " [10 12]]\n",
            "\n",
            "\n",
            "Sensibilidade: 0.82\n",
            "Acurácia: 0.78\n",
            "Precisão: 0.75\n",
            "Medida F1: 0.76\n"
          ]
        }
      ]
    },
    {
      "cell_type": "markdown",
      "source": [
        "#####*Questão* 3.4: **métricas de Similaridade**"
      ],
      "metadata": {
        "id": "UkjVfZcLv7Yd"
      }
    },
    {
      "cell_type": "code",
      "source": [
        "#Distância Euclidiana\n",
        "#Diantância de Manhattan\n",
        "#Valores de K = 2,3,9,10,100\n",
        "\n",
        "#k = random.randint(1,235)\n",
        "#print('valor gerado para k: ', k)\n",
        "k = 3\n",
        "print('Valor de k: ', k)\n",
        "knn = neighbors.KNeighborsClassifier(n_neighbors=k, metric='euclidean')\n",
        "knn.fit(trainSample, trainTarget)\n",
        "resultKNN = knn.predict(testSample)\n",
        "\n",
        "print('\\nK-NN')\n",
        "print('Acurácia: %0.2f' % (metrics.accuracy_score(testTarget, resultKNN)))\n",
        "\n",
        "matrizConfusao = metrics.confusion_matrix(testTarget, resultKNN)\n",
        "\n",
        "ax = sns.heatmap(matrizConfusao, annot=True, cmap='Purples')\n",
        "\n",
        "ax.set_title('Matriz de Confusão\\n\\n');\n",
        "ax.set_xlabel('\\nClasse Verdadeira')\n",
        "ax.set_ylabel('Classe Predita');\n",
        "\n",
        "## Ticket labels - List must be in alphabetical order\n",
        "ax.xaxis.set_ticklabels(['Safe','Risco'])\n",
        "ax.yaxis.set_ticklabels(['Safe','Risco'])\n",
        "\n",
        "\n",
        "## Display the visualization of the Confusion Matrix.\n",
        "plt.show()\n",
        "\n",
        "#print(\"Matriz de confusão:\\n\", matrizConfusao)\n",
        "\n",
        "\n"
      ],
      "metadata": {
        "colab": {
          "base_uri": "https://localhost:8080/",
          "height": 406
        },
        "id": "CABxG8vlXRyd",
        "outputId": "a603a909-0165-489d-b8f4-9fe493aeded1"
      },
      "execution_count": null,
      "outputs": [
        {
          "output_type": "stream",
          "name": "stdout",
          "text": [
            "Valor de k:  3\n",
            "\n",
            "K-NN\n",
            "Acurácia: 0.92\n"
          ]
        },
        {
          "output_type": "display_data",
          "data": {
            "text/plain": [
              "<Figure size 432x288 with 2 Axes>"
            ],
            "image/png": "[encoded data removed]"
          },
          "metadata": {
            "needs_background": "light"
          }
        }
      ]
    },
    {
      "cell_type": "code",
      "source": [
        "#Métricas\n",
        "\n",
        "VP = np.diag(matrizConfusao)\n",
        "FP = matrizConfusao.sum(axis=1) - np.diag(matrizConfusao)\n",
        "FN = matrizConfusao.sum(axis=0) - np.diag(matrizConfusao)\n",
        "VN = matrizConfusao.sum() - (FP+FN+VP)\n",
        "print(f'Matriz de Confusão para K = {k}\\n', matrizConfusao)\n",
        "print('\\n')\n",
        "\n",
        "S = VP / (VP+FN)\n",
        "print(f'Sensibilidade: {S.mean():.2f}')\n",
        "\n",
        "Acc = (VP+VN)/(VP+FP+VN+FN)\n",
        "print(f'Acurácia: {Acc.mean():.2f}')\n",
        "\n",
        "P = VP / (VP+FP)\n",
        "print(f'Precisão: {P.mean():.2f}')\n",
        "#F1 = 2* (P*S / P+S) Medidada de confiabilidade da acurácia\n",
        "MedidaF1 = (2*P*S)/(P+S)\n",
        "print(f'Medida F1: {MedidaF1.mean():.2f}')"
      ],
      "metadata": {
        "colab": {
          "base_uri": "https://localhost:8080/"
        },
        "id": "-JYqXt4Zy92X",
        "outputId": "5066ca40-8c9a-4b18-f904-2ee8a854304b"
      },
      "execution_count": null,
      "outputs": [
        {
          "output_type": "stream",
          "name": "stdout",
          "text": [
            "Matriz de Confusão para K = 3\n",
            " [[27  0]\n",
            " [ 4 18]]\n",
            "\n",
            "\n",
            "Sensibilidade: 0.94\n",
            "Acurácia: 0.92\n",
            "Precisão: 0.91\n",
            "Medida F1: 0.92\n"
          ]
        }
      ]
    },
    {
      "cell_type": "markdown",
      "source": [
        "######Questão 3.4 - Os resultados abaixo foram cálculados separadamente com os devidos parametros[splits, metricas] acima."
      ],
      "metadata": {
        "id": "LX_919dZ1Z28"
      }
    },
    {
      "cell_type": "code",
      "source": [
        "# K=2 : MÉTRICA = Manhattan"
      ],
      "metadata": {
        "colab": {
          "base_uri": "https://localhost:8080/"
        },
        "id": "xtFrtRkWqNip",
        "outputId": "8f8bf4ff-3f7c-4b69-9f1e-e6ea55628e8a"
      },
      "execution_count": null,
      "outputs": [
        {
          "output_type": "stream",
          "name": "stdout",
          "text": [
            "Matriz de Confusão para K = 2\n",
            " \n",
            " Manhattan \n",
            " \n",
            " [[27  0]\n",
            " [ 9 13]]\n",
            "\n",
            "\n",
            "Sensibilidade: 0.88\n",
            "Acurácia: 0.82\n",
            "Precisão: 0.80\n",
            "Medida F1: 0.80\n"
          ]
        }
      ]
    },
    {
      "cell_type": "code",
      "source": [
        "# K=2 : MÉTRICA = EUCLIDEAN"
      ],
      "metadata": {
        "colab": {
          "base_uri": "https://localhost:8080/"
        },
        "id": "xXDDtkj4uNSz",
        "outputId": "ebac466a-7cee-41f5-baac-00fa44d14ba4"
      },
      "execution_count": null,
      "outputs": [
        {
          "output_type": "stream",
          "name": "stdout",
          "text": [
            "Matriz de Confusão para K = 2\n",
            " \n",
            " Euclidean \n",
            " \n",
            " [[27  0]\n",
            " [ 7 15]]\n",
            "\n",
            "\n",
            "Sensibilidade: 0.90\n",
            "Acurácia: 0.86\n",
            "Precisão: 0.84\n",
            "Medida F1: 0.85\n"
          ]
        }
      ]
    },
    {
      "cell_type": "code",
      "source": [
        "# K=3 : MÉTRICA = MANHATTAN"
      ],
      "metadata": {
        "colab": {
          "base_uri": "https://localhost:8080/"
        },
        "id": "b1tevBnCwxlU",
        "outputId": "7404c6fa-3363-4064-9d10-5ce0d52b3b70"
      },
      "execution_count": null,
      "outputs": [
        {
          "output_type": "stream",
          "name": "stdout",
          "text": [
            "Matriz de Confusão para K = 3\n",
            " \n",
            " Manhattan \n",
            " \n",
            " [[27  0]\n",
            " [ 6 16]]\n",
            "\n",
            "\n",
            "Sensibilidade: 0.91\n",
            "Acurácia: 0.88\n",
            "Precisão: 0.86\n",
            "Medida F1: 0.87\n"
          ]
        }
      ]
    },
    {
      "cell_type": "code",
      "source": [
        "# K=3 : MÉTRICA = EUCLIDEAN"
      ],
      "metadata": {
        "colab": {
          "base_uri": "https://localhost:8080/"
        },
        "id": "NVahHJZBxbZA",
        "outputId": "e35022bf-aa2c-4e48-b546-820126f81a96"
      },
      "execution_count": null,
      "outputs": [
        {
          "output_type": "stream",
          "name": "stdout",
          "text": [
            "Matriz de Confusão para K = 3\n",
            " \n",
            " Euclidean \n",
            " \n",
            " [[27  0]\n",
            " [ 4 18]]\n",
            "\n",
            "\n",
            "Sensibilidade: 0.94\n",
            "Acurácia: 0.92\n",
            "Precisão: 0.91\n",
            "Medida F1: 0.92\n"
          ]
        }
      ]
    },
    {
      "cell_type": "code",
      "source": [
        "# K=9 : MÉTRICA = MANHATTAN"
      ],
      "metadata": {
        "colab": {
          "base_uri": "https://localhost:8080/"
        },
        "id": "BHMER30Exi3_",
        "outputId": "9a339ac1-c315-4b5d-9a7e-eb6e03a6a525"
      },
      "execution_count": null,
      "outputs": [
        {
          "output_type": "stream",
          "name": "stdout",
          "text": [
            "Matriz de Confusão para K = 9\n",
            " \n",
            " Manhattan \n",
            " \n",
            " [[27  0]\n",
            " [ 4 18]]\n",
            "\n",
            "\n",
            "Sensibilidade: 0.94\n",
            "Acurácia: 0.92\n",
            "Precisão: 0.91\n",
            "Medida F1: 0.92\n"
          ]
        }
      ]
    },
    {
      "cell_type": "code",
      "source": [
        "# K=9 : MÉTRICA = EUCLIDEAN"
      ],
      "metadata": {
        "colab": {
          "base_uri": "https://localhost:8080/"
        },
        "id": "OCY9j-20xsA-",
        "outputId": "0ebf7e30-d16f-41f8-c391-289cbf852a1d"
      },
      "execution_count": null,
      "outputs": [
        {
          "output_type": "stream",
          "name": "stdout",
          "text": [
            "Matriz de Confusão para K = 9\n",
            " \n",
            " Euclidean \n",
            " \n",
            " [[27  0]\n",
            " [ 5 17]]\n",
            "\n",
            "\n",
            "Sensibilidade: 0.92\n",
            "Acurácia: 0.90\n",
            "Precisão: 0.89\n",
            "Medida F1: 0.89\n"
          ]
        }
      ]
    },
    {
      "cell_type": "code",
      "source": [
        "# K=10 : MÉTRICA = MANHATTAN"
      ],
      "metadata": {
        "colab": {
          "base_uri": "https://localhost:8080/"
        },
        "id": "Mf7Daz7sxzDi",
        "outputId": "61187ba2-182e-42fc-80a0-1d97d832d5f5"
      },
      "execution_count": null,
      "outputs": [
        {
          "output_type": "stream",
          "name": "stdout",
          "text": [
            "Matriz de Confusão para K = 10\n",
            " \n",
            " Manhattan \n",
            " \n",
            " [[27  0]\n",
            " [ 5 17]]\n",
            "\n",
            "\n",
            "Sensibilidade: 0.92\n",
            "Acurácia: 0.90\n",
            "Precisão: 0.89\n",
            "Medida F1: 0.89\n"
          ]
        }
      ]
    },
    {
      "cell_type": "code",
      "source": [
        "# K=10 : MÉTRICA = EUCLIDEAN"
      ],
      "metadata": {
        "colab": {
          "base_uri": "https://localhost:8080/"
        },
        "id": "G2UxHAZIx714",
        "outputId": "734f50fd-9974-4fd1-fe9f-fe2ca5302f0c"
      },
      "execution_count": null,
      "outputs": [
        {
          "output_type": "stream",
          "name": "stdout",
          "text": [
            "Matriz de Confusão para K = 10\n",
            " \n",
            " Euclidean \n",
            " \n",
            " [[27  0]\n",
            " [ 5 17]]\n",
            "\n",
            "\n",
            "Sensibilidade: 0.92\n",
            "Acurácia: 0.90\n",
            "Precisão: 0.89\n",
            "Medida F1: 0.89\n"
          ]
        }
      ]
    },
    {
      "cell_type": "code",
      "source": [
        "# K=100 : MÉTRICA = MANHATTAN"
      ],
      "metadata": {
        "colab": {
          "base_uri": "https://localhost:8080/"
        },
        "id": "uDE1yZmJyCut",
        "outputId": "36c9cd3b-9a36-4183-85f7-1d0bbbe62da9"
      },
      "execution_count": null,
      "outputs": [
        {
          "output_type": "stream",
          "name": "stdout",
          "text": [
            "Matriz de Confusão para K = 100\n",
            " \n",
            " Manhattan \n",
            " \n",
            " [[26  1]\n",
            " [10 12]]\n",
            "\n",
            "\n",
            "Sensibilidade: 0.82\n",
            "Acurácia: 0.78\n",
            "Precisão: 0.75\n",
            "Medida F1: 0.76\n"
          ]
        }
      ]
    },
    {
      "cell_type": "code",
      "source": [
        "# K=100 : MÉTRICA = EUCLIDEAN"
      ],
      "metadata": {
        "colab": {
          "base_uri": "https://localhost:8080/"
        },
        "id": "YaL1s22myKU9",
        "outputId": "15180c91-5c5d-421c-d660-398ff035d494"
      },
      "execution_count": null,
      "outputs": [
        {
          "output_type": "stream",
          "name": "stdout",
          "text": [
            "Matriz de Confusão para K = 100\n",
            " \n",
            " Euclidean \n",
            " \n",
            " [[26  1]\n",
            " [10 12]]\n",
            "\n",
            "\n",
            "Sensibilidade: 0.82\n",
            "Acurácia: 0.78\n",
            "Precisão: 0.75\n",
            "Medida F1: 0.76\n"
          ]
        }
      ]
    },
    {
      "cell_type": "code",
      "source": [
        "# K=155 : MÉTRICA = MANHATTAN"
      ],
      "metadata": {
        "colab": {
          "base_uri": "https://localhost:8080/"
        },
        "id": "rOi-d8CYybYn",
        "outputId": "0e8602d2-4055-4702-fa05-bd3f508c3536"
      },
      "execution_count": null,
      "outputs": [
        {
          "output_type": "stream",
          "name": "stdout",
          "text": [
            "Matriz de Confusão para K = 155\n",
            " \n",
            " Manhattan \n",
            " \n",
            " [[27  0]\n",
            " [18  4]]\n",
            "\n",
            "\n",
            "Sensibilidade: 0.80\n",
            "Acurácia: 0.63\n",
            "Precisão: 0.59\n",
            "Medida F1: 0.53\n"
          ]
        }
      ]
    },
    {
      "cell_type": "code",
      "source": [
        "# K=155 : MÉTRICA = EUCLIDEAN"
      ],
      "metadata": {
        "colab": {
          "base_uri": "https://localhost:8080/"
        },
        "id": "rm9p2G3gygJc",
        "outputId": "fbd0253f-fde6-4b5c-fd96-9500601eff08"
      },
      "execution_count": null,
      "outputs": [
        {
          "output_type": "stream",
          "name": "stdout",
          "text": [
            "Matriz de Confusão para K = 155\n",
            " \n",
            " Euclidean \n",
            " \n",
            " [[27  0]\n",
            " [22  0]]\n",
            "\n",
            "\n",
            "Sensibilidade: nan\n",
            "Acurácia: 0.55\n",
            "Precisão: 0.50\n",
            "Medida F1: nan\n"
          ]
        },
        {
          "output_type": "stream",
          "name": "stderr",
          "text": [
            "/usr/local/lib/python3.7/dist-packages/ipykernel_launcher.py:18: RuntimeWarning: invalid value encountered in true_divide\n"
          ]
        }
      ]
    },
    {
      "cell_type": "markdown",
      "source": [
        "####**3.5 - Melhor K = 3, Melhor distancia = Euclidean**"
      ],
      "metadata": {
        "id": "ME6Hgwml2GDa"
      }
    },
    {
      "cell_type": "code",
      "source": [
        "\n",
        "#Conjunto, Melhor K, Métricas e Matriz\n",
        "print(df.head())\n",
        "print('\\n\\n')\n",
        "\n",
        "VP = np.diag(matrizConfusao)\n",
        "FP = matrizConfusao.sum(axis=1) - np.diag(matrizConfusao)\n",
        "FN = matrizConfusao.sum(axis=0) - np.diag(matrizConfusao)\n",
        "VN = matrizConfusao.sum() - (FP+FN+VP)\n",
        "print(f'Matriz de Confusão para K = {k}\\n \\n Euclidean \\n \\n', matrizConfusao)\n",
        "print('\\n')\n",
        "\n",
        "S = VP / (VP+FN)\n",
        "print(f'Sensibilidade: {S.mean():.2f}')\n",
        "\n",
        "Acc = (VP+VN)/(VP+FP+VN+FN)\n",
        "print(f'Acurácia: {Acc.mean():.2f}')\n",
        "\n",
        "P = VP / (VP+FP)\n",
        "print(f'Precisão: {P.mean():.2f}')\n",
        "#F1 = 2* (P*S / P+S) Medidada de confiabilidade da acurácia\n",
        "MedidaF1 = (2*P*S)/(P+S)\n",
        "print(f'Medida F1: {MedidaF1.mean():.2f}')"
      ],
      "metadata": {
        "colab": {
          "base_uri": "https://localhost:8080/"
        },
        "id": "tTszwAnZ2PvT",
        "outputId": "62fd0cb6-8c5e-4059-9c0a-54bb69354aa6"
      },
      "execution_count": null,
      "outputs": [
        {
          "output_type": "stream",
          "name": "stdout",
          "text": [
            "         cp   thalach  exang  oldpeak  slope      thal  target\n",
            "0  0.333333  0.953704    0.0      0.0    0.0  0.000000     0.0\n",
            "1  0.333333  0.722222    0.0      0.0    0.0  0.000000     0.0\n",
            "2  0.333333  0.814815    0.0      0.0    0.0  0.000000     0.0\n",
            "3  0.000000  0.814815    0.0      0.0    0.0  0.857143     0.0\n",
            "4  0.333333  0.629630    0.0      0.0    0.0  0.857143     0.0\n",
            "\n",
            "\n",
            "\n",
            "Matriz de Confusão para K = 3\n",
            " \n",
            " Euclidean \n",
            " \n",
            " [[27  0]\n",
            " [ 4 18]]\n",
            "\n",
            "\n",
            "Sensibilidade: 0.94\n",
            "Acurácia: 0.92\n",
            "Precisão: 0.91\n",
            "Medida F1: 0.92\n"
          ]
        }
      ]
    },
    {
      "cell_type": "markdown",
      "source": [
        "#Questão 4\n"
      ],
      "metadata": {
        "id": "J3UxFCdLN3UT"
      }
    },
    {
      "cell_type": "code",
      "source": [
        "#Criação da matriz\n",
        "\n",
        "p4 = np.array([[70,20,5,5], [10,67,3,20], [5,30,55,10], [5,4,2,1000]])\n",
        "p4"
      ],
      "metadata": {
        "colab": {
          "base_uri": "https://localhost:8080/"
        },
        "id": "g-eqapXRN82Y",
        "outputId": "bc04045d-70a6-4a4c-99fc-75e4c80447f3"
      },
      "execution_count": 28,
      "outputs": [
        {
          "output_type": "execute_result",
          "data": {
            "text/plain": [
              "array([[  70,   20,    5,    5],\n",
              "       [  10,   67,    3,   20],\n",
              "       [   5,   30,   55,   10],\n",
              "       [   5,    4,    2, 1000]])"
            ]
          },
          "metadata": {},
          "execution_count": 28
        }
      ]
    },
    {
      "cell_type": "code",
      "source": [
        "#Plotagem da matriz com mapa de calor do Seaborn\n",
        "#Esse código foi puramente copiado do Stackoverflow \n",
        "\n",
        "ax = sns.heatmap(p4, annot=True, cmap='Blues')\n",
        "\n",
        "ax.set_title('Matriz de Confusão\\n\\n');\n",
        "ax.set_xlabel('\\nClasse Verdadeira')\n",
        "ax.set_ylabel('Classe Predita');\n",
        "\n",
        "## Ticket labels - List must be in alphabetical order\n",
        "ax.xaxis.set_ticklabels(['Maçã','Laranja','Limão', 'Manga'])\n",
        "ax.yaxis.set_ticklabels(['Maçã','Laranja', 'Limão', 'Manga'])\n",
        "\n",
        "## Display the visualization of the Confusion Matrix.\n",
        "plt.show()"
      ],
      "metadata": {
        "colab": {
          "base_uri": "https://localhost:8080/",
          "height": 337
        },
        "id": "i41aZyI6SBOS",
        "outputId": "70857eb7-1369-4978-f42d-a921ae4eff56"
      },
      "execution_count": 29,
      "outputs": [
        {
          "output_type": "display_data",
          "data": {
            "text/plain": [
              "<Figure size 432x288 with 2 Axes>"
            ],
            "image/png": "[encoded data removed]"
          },
          "metadata": {
            "needs_background": "light"
          }
        }
      ]
    },
    {
      "cell_type": "markdown",
      "source": [
        "###Métricas\n",
        "\n"
      ],
      "metadata": {
        "id": "5DvVLxTvU9Gt"
      }
    },
    {
      "cell_type": "code",
      "source": [
        "VP = np.diag(p4)\n",
        "print(VP)\n",
        "\n",
        "FP = p4.sum(axis=1) - np.diag(p4)\n",
        "print(FP)\n",
        "\n",
        "FN = p4.sum(axis=0) - np.diag(p4)\n",
        "print(FN)\n",
        "\n",
        "VN = p4.sum() - (FP+FN+VP)\n",
        "print(VN)\n"
      ],
      "metadata": {
        "colab": {
          "base_uri": "https://localhost:8080/"
        },
        "id": "5oMs7CXwVANn",
        "outputId": "f59ec8e0-5c18-4a05-cda8-1d46191ed353"
      },
      "execution_count": 30,
      "outputs": [
        {
          "output_type": "stream",
          "name": "stdout",
          "text": [
            "[  70   67   55 1000]\n",
            "[30 33 45 11]\n",
            "[20 54 10 35]\n",
            "[1191 1157 1201  265]\n"
          ]
        }
      ]
    },
    {
      "cell_type": "code",
      "source": [
        "#Sensibilidade = VP / (VP + FN)\n",
        "S = VP / (VP+FN)\n",
        "#print(S, '\\n')\n",
        "S.mean()\n"
      ],
      "metadata": {
        "colab": {
          "base_uri": "https://localhost:8080/"
        },
        "id": "ieZit8fHYGtU",
        "outputId": "389d1e26-a614-4696-e53a-180d7a6c6579"
      },
      "execution_count": 31,
      "outputs": [
        {
          "output_type": "execute_result",
          "data": {
            "text/plain": [
              "0.7859585517688285"
            ]
          },
          "metadata": {},
          "execution_count": 31
        }
      ]
    },
    {
      "cell_type": "code",
      "source": [
        "#Especificidade = VN / (VN/FP)\n",
        "\n",
        "E = VN / (VN+FP)  #VN = 0\n",
        "E.mean()"
      ],
      "metadata": {
        "colab": {
          "base_uri": "https://localhost:8080/"
        },
        "id": "riAD0idSYHfI",
        "outputId": "3228619f-621b-48f8-d547-dd03c4285da1"
      },
      "execution_count": 32,
      "outputs": [
        {
          "output_type": "execute_result",
          "data": {
            "text/plain": [
              "0.9679320601764494"
            ]
          },
          "metadata": {},
          "execution_count": 32
        }
      ]
    },
    {
      "cell_type": "code",
      "source": [
        "#Precisão = VP / (VP+FP)\n",
        "\n",
        "P = VP / (VP+FP)\n",
        "P.mean()"
      ],
      "metadata": {
        "colab": {
          "base_uri": "https://localhost:8080/"
        },
        "id": "kac9fb20YTiv",
        "outputId": "9ff82988-b109-4fe8-d46b-e6020f61e8dc"
      },
      "execution_count": 33,
      "outputs": [
        {
          "output_type": "execute_result",
          "data": {
            "text/plain": [
              "0.7272799208704254"
            ]
          },
          "metadata": {},
          "execution_count": 33
        }
      ]
    },
    {
      "cell_type": "code",
      "source": [
        "#Acurácia = (VP+VN)/(VP+VN+FP+FN)\n",
        "\n",
        "Acc = (VP+VN)/(VP+FP+VN+FN)\n",
        "Acc.mean()"
      ],
      "metadata": {
        "colab": {
          "base_uri": "https://localhost:8080/"
        },
        "id": "z9Yzc1j2Ztqq",
        "outputId": "eba2f03b-9b44-4953-956b-aa2aa14696d6"
      },
      "execution_count": 34,
      "outputs": [
        {
          "output_type": "execute_result",
          "data": {
            "text/plain": [
              "0.9546147978642258"
            ]
          },
          "metadata": {},
          "execution_count": 34
        }
      ]
    },
    {
      "cell_type": "code",
      "source": [
        "#F1 = 2* (P*S / P+S) Medidada de confiabilidade da acurácia\n",
        "\n",
        "MedidaF1 = (2*P*S)/(P+S)\n",
        "MedidaF1.mean()"
      ],
      "metadata": {
        "colab": {
          "base_uri": "https://localhost:8080/"
        },
        "id": "EBSdZtnvYo-C",
        "outputId": "a833570f-223b-4bdb-8af4-7bca7445acd6"
      },
      "execution_count": 35,
      "outputs": [
        {
          "output_type": "execute_result",
          "data": {
            "text/plain": [
              "0.7468401800270371"
            ]
          },
          "metadata": {},
          "execution_count": 35
        }
      ]
    },
    {
      "cell_type": "code",
      "source": [
        "#Coeficiente de Matthews = (VP*VN – FP*FN) / sqrt((VP + FP)*(VP + FN)*(VN + FP)*(VN + FN))\n",
        "\n",
        "CM = (VP*VN - FP*FN) / np.sqrt((VP + FP)*(VP + FN)*(VN + FP)*(VN + FN))\n",
        "CM.mean()"
      ],
      "metadata": {
        "colab": {
          "base_uri": "https://localhost:8080/"
        },
        "id": "gj66YwQ0aO3z",
        "outputId": "e069b8ac-8363-46f8-88df-f9d11462c3d2"
      },
      "execution_count": 36,
      "outputs": [
        {
          "output_type": "execute_result",
          "data": {
            "text/plain": [
              "0.7131197999274905"
            ]
          },
          "metadata": {},
          "execution_count": 36
        }
      ]
    },
    {
      "cell_type": "code",
      "source": [
        "#Reference: https://stats.stackexchange.com/questions/372236/what-is-the-formula-to-calculate-the-area-under-the-roc-curve-from-a-contingency\n",
        "AUC = (S + E)/2\n",
        "AUC.mean()"
      ],
      "metadata": {
        "colab": {
          "base_uri": "https://localhost:8080/"
        },
        "id": "38NMCQwfbgR6",
        "outputId": "46e15bb2-8ab7-4dcf-ce79-4c04610d82ae"
      },
      "execution_count": null,
      "outputs": [
        {
          "output_type": "execute_result",
          "data": {
            "text/plain": [
              "0.8769453059726389"
            ]
          },
          "metadata": {},
          "execution_count": 196
        }
      ]
    },
    {
      "cell_type": "code",
      "source": [
        "#Valores com 3 dígitos de precisão\n",
        "print(f'Sensibilidade: {S.mean():.3f}')\n",
        "print(f'Especificidade: {E.mean():.3f}')\n",
        "print(f'Precisão: {P.mean():.3f}')\n",
        "print(f'Acurácia: {Acc.mean():.3f}')\n",
        "print(f'MedidaF1: {MedidaF1.mean():.3f}')\n",
        "print(f'Coeficiente de Matthews: {CM.mean():.3f}')\n",
        "print(f'AUC: {AUC.mean():.3f}')"
      ],
      "metadata": {
        "colab": {
          "base_uri": "https://localhost:8080/"
        },
        "id": "PF51oBht0MOg",
        "outputId": "3506db2a-9bbe-4bff-d6a5-8b2f41fd01e4"
      },
      "execution_count": null,
      "outputs": [
        {
          "output_type": "stream",
          "name": "stdout",
          "text": [
            "Sensibilidade: 0.786\n",
            "Especificidade: 0.968\n",
            "Precisão: 0.727\n",
            "Acurácia: 0.955\n",
            "MedidaF1: 0.747\n",
            "Coeficiente de Matthews: 0.713\n",
            "AUC: 0.877\n"
          ]
        }
      ]
    },
    {
      "cell_type": "code",
      "source": [
        "#Valores com 2 dígitos de precisão\n",
        "\n",
        "print(f'Sensibilidade: {S.mean():.2f}')\n",
        "print(f'Especificidade: {E.mean():.2f}')\n",
        "print(f'Precisão: {P.mean():.2f}')\n",
        "print(f'Acurácia: {Acc.mean():.2f}')\n",
        "print(f'MedidaF1: {MedidaF1.mean():.2f}')\n",
        "print(f'Coeficiente de Matthews: {CM.mean():.2f}')\n",
        "print(f'AUC: {AUC.mean():.2f}')\n"
      ],
      "metadata": {
        "colab": {
          "base_uri": "https://localhost:8080/"
        },
        "id": "tflTZ7Tz05hD",
        "outputId": "c1730c05-d8ff-4bef-8f2d-801304f60bce"
      },
      "execution_count": null,
      "outputs": [
        {
          "output_type": "stream",
          "name": "stdout",
          "text": [
            "Sensibilidade: 0.79\n",
            "Especificidade: 0.97\n",
            "Precisão: 0.73\n",
            "Acurácia: 0.95\n",
            "MedidaF1: 0.75\n",
            "Coeficiente de Matthews: 0.71\n",
            "AUC: 0.88\n"
          ]
        }
      ]
    },
    {
      "cell_type": "code",
      "source": [
        "tpr = VP/(VP+FN)\n",
        "fpr = FP/(FP+VN)\n",
        "x = (0, tpr, 1)\n",
        "y = (0, fpr, 1)\n",
        "\n",
        "auc = np.trapz(x,y)\n",
        "auc\n"
      ],
      "metadata": {
        "id": "DTUAHntPfj1T"
      },
      "execution_count": null,
      "outputs": []
    }
  ]
}